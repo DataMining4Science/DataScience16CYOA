{
 "cells": [
  {
   "cell_type": "code",
   "execution_count": null,
   "metadata": {
    "collapsed": true
   },
   "outputs": [],
   "source": [
    "%matplotlib inline\n",
    "\n",
    "import pandas as pd\n",
    "import numpy as np\n",
    "import itertools\n",
    "import re\n",
    "\n",
    "import matplotlib.pyplot as plt"
   ]
  },
  {
   "cell_type": "code",
   "execution_count": null,
   "metadata": {
    "collapsed": false
   },
   "outputs": [],
   "source": [
    "readData = pd.read_csv('weather1.csv')\n",
    "readData = readData.replace('-9999', np.nan)\n",
    "readData.describe()"
   ]
  },
  {
   "cell_type": "code",
   "execution_count": null,
   "metadata": {
    "collapsed": false
   },
   "outputs": [],
   "source": [
    "stations = readData['STATION_NAME'].unique()\n",
    "stations"
   ]
  },
  {
   "cell_type": "code",
   "execution_count": null,
   "metadata": {
    "collapsed": false
   },
   "outputs": [],
   "source": [
    "stationOcean = readData.loc[readData['STATION_NAME'] == stations[0]]\n",
    "station30 = readData.loc[readData['STATION_NAME'] == stations[1]]\n",
    "stationDowntown = readData.loc[readData['STATION_NAME'] == stations[2]]\n",
    "station11 = readData.loc[readData['STATION_NAME'] == stations[3]]\n",
    "station28 = readData.loc[readData['STATION_NAME'] == stations[4]]"
   ]
  },
  {
   "cell_type": "code",
   "execution_count": null,
   "metadata": {
    "collapsed": false
   },
   "outputs": [],
   "source": [
    "print len(stationOcean)\n",
    "print len(station30)\n",
    "print len(stationDowntown)\n",
    "print len(station11)\n",
    "print len(station28)"
   ]
  },
  {
   "cell_type": "code",
   "execution_count": null,
   "metadata": {
    "collapsed": false
   },
   "outputs": [],
   "source": [
    "stationDowntown.is_copy = False\n",
    "stationDowntown.describe()"
   ]
  },
  {
   "cell_type": "code",
   "execution_count": null,
   "metadata": {
    "collapsed": false
   },
   "outputs": [],
   "source": [
    "# stationDowntown['DATE'] = stationDowntown['DATE'].astype(str);\n",
    "stationDowntown['DATE'] = stationDowntown.DATE.astype(str)"
   ]
  },
  {
   "cell_type": "code",
   "execution_count": null,
   "metadata": {
    "collapsed": false
   },
   "outputs": [],
   "source": [
    "stationDowntown['YEAR'] = stationDowntown['DATE'].apply(lambda x: x[:4]).astype(int)\n",
    "stationDowntown['Month'] = stationDowntown['DATE'].apply(lambda x: x[4:6]).astype(int)\n",
    "stationDowntown['Day'] = stationDowntown['DATE'].apply(lambda x: x[6:8]).astype(int)"
   ]
  },
  {
   "cell_type": "code",
   "execution_count": null,
   "metadata": {
    "collapsed": false
   },
   "outputs": [],
   "source": [
    "stationDowntown"
   ]
  },
  {
   "cell_type": "code",
   "execution_count": null,
   "metadata": {
    "collapsed": false
   },
   "outputs": [],
   "source": [
    "grouped = stationDowntown.groupby(['YEAR', 'Month'])\n",
    "monthAverage = grouped.aggregate(np.average)\n",
    "plt.plot(monthAverage['TMAX'].values)\n",
    "plt.plot(monthAverage['TMIN'].values)\n",
    "plt.show()\n",
    "# grouped.get_group(1)\n",
    "# for name, group in grouped:\n",
    "#     print(name)\n",
    "#     print(group)"
   ]
  },
  {
   "cell_type": "code",
   "execution_count": null,
   "metadata": {
    "collapsed": false
   },
   "outputs": [],
   "source": [
    "plt.plot(monthAverage['PRCP'].values)\n",
    "plt.show()"
   ]
  },
  {
   "cell_type": "code",
   "execution_count": null,
   "metadata": {
    "collapsed": true
   },
   "outputs": [],
   "source": []
  }
 ],
 "metadata": {
  "kernelspec": {
   "display_name": "Python 2",
   "language": "python",
   "name": "python2"
  },
  "language_info": {
   "codemirror_mode": {
    "name": "ipython",
    "version": 2
   },
   "file_extension": ".py",
   "mimetype": "text/x-python",
   "name": "python",
   "nbconvert_exporter": "python",
   "pygments_lexer": "ipython2",
   "version": "2.7.11"
  }
 },
 "nbformat": 4,
 "nbformat_minor": 0
}
