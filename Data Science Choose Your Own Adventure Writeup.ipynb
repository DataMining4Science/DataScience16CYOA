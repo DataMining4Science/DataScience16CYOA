{
 "cells": [
  {
   "cell_type": "markdown",
   "metadata": {},
   "source": [
    "# Data Science: Choose Your Own Adventure\n",
    "**By Mac-I and Sophia**\n",
    "\n",
    "For this project, we decided to use the [San Franscisco Crime Dataset](https://www.kaggle.com/c/sf-crime), with the goal of predicting the category of crime based on the date/time of report, and the location of the report. This notebook will serve as a writeup of the work that we have done on this project, in both data exploration and building a model. "
   ]
  },
  {
   "cell_type": "markdown",
   "metadata": {},
   "source": [
    "## Introduction\n",
    "Before we get started, let's talk about what we're trying to do and what information we actually have!\n",
    "\n",
    "In the dataset, the information we have is:\n",
    "* **Dates**\n",
    "* Category\n",
    "* **Description**\n",
    "* **Day of Week**\n",
    "* **Police District**\n",
    "* Resolution\n",
    "* **Addresss**\n",
    "* **X (Longitude)**\n",
    "* **Y (Latitude)**\n",
    "\n",
    "The bolded items are the ones that occur in both the test and training datasets. In other words, the bolded items are the ones that we will be using to predict the cateogry of the crime. \n"
   ]
  },
  {
   "cell_type": "markdown",
   "metadata": {},
   "source": [
    "## Data Exploration\n",
    "Before we get into building a model, we're going to start by just exploring the dataset. The goal of this is to just explore what kinds of relationships exist in the dataset. "
   ]
  },
  {
   "cell_type": "markdown",
   "metadata": {},
   "source": [
    "## Making a Model\n",
    "Now that we've explored the data, we're going to start building a model. To make our lives easier, we're going to follow a pretty simple workflow. We will \n",
    "1. Read in the Data\n",
    "2. Clean the training data\n",
    "3. Create a Model using the cleaned data\n",
    "4. Score the model using the crime categories in the training data\n",
    "5. If the model performs well (better than previous attempts) we will: \n",
    "  1. Repeat steps 1-3 with the test data. \n",
    "  2. Generate a submission file to upload to Kaggle. "
   ]
  },
  {
   "cell_type": "code",
   "execution_count": null,
   "metadata": {
    "collapsed": true
   },
   "outputs": [],
   "source": []
  }
 ],
 "metadata": {
  "kernelspec": {
   "display_name": "Python 2",
   "language": "python",
   "name": "python2"
  },
  "language_info": {
   "codemirror_mode": {
    "name": "ipython",
    "version": 2
   },
   "file_extension": ".py",
   "mimetype": "text/x-python",
   "name": "python",
   "nbconvert_exporter": "python",
   "pygments_lexer": "ipython2",
   "version": "2.7.11"
  }
 },
 "nbformat": 4,
 "nbformat_minor": 0
}
