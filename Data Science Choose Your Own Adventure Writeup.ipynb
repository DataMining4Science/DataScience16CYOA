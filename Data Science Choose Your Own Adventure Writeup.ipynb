{
 "cells": [
  {
   "cell_type": "markdown",
   "metadata": {},
   "source": [
    "# Data Science: Choose Your Own Adventure\n",
    "**By Mac-I and Sophia**\n",
    "\n",
    "For this project, we decided to use the [San Franscisco Crime Dataset](https://www.kaggle.com/c/sf-crime), with the goal of predicting the category of crime based on the date/time of report, and the location of the report. This notebook will serve as a writeup of the work that we have done on this project, in both data exploration and building a model. "
   ]
  },
  {
   "cell_type": "markdown",
   "metadata": {},
   "source": [
    "## Introduction\n",
    "Before we get started, let's talk about what we're trying to do and what information we actually have!\n",
    "\n",
    "In the dataset, the information we have is:\n",
    "* **Dates**\n",
    "* Category\n",
    "* **Description**\n",
    "* **Day of Week**\n",
    "* **Police District**\n",
    "* Resolution\n",
    "* **Addresss**\n",
    "* **X (Longitude)**\n",
    "* **Y (Latitude)**\n",
    "\n",
    "The bolded items are the ones that occur in both the test and training datasets. In other words, the bolded items are the ones that we will be using to predict the cateogry of the crime. \n"
   ]
  },
  {
   "cell_type": "markdown",
   "metadata": {},
   "source": [
    "## Importing Everything\n",
    "To keep our code neat, let's import all the helper libraries we need up here!\n",
    "\n",
    "We will also read in the data here. "
   ]
  },
  {
   "cell_type": "code",
   "execution_count": null,
   "metadata": {
    "collapsed": false,
    "scrolled": true
   },
   "outputs": [],
   "source": [
    "% matplotlib inline\n",
    "import shapefile\n",
    "import pandas as pd\n",
    "import numpy as np\n",
    "import itertools\n",
    "\n",
    "import matplotlib.pyplot as plt\n",
    "from matplotlib.patches import Polygon\n",
    "from matplotlib.collections import PatchCollection\n",
    "from matplotlib import cm\n",
    "from datetime import datetime\n",
    "from ipywidgets import widgets  \n",
    "from IPython.display import display\n",
    "\n",
    "import seaborn as sns"
   ]
  },
  {
   "cell_type": "markdown",
   "metadata": {},
   "source": [
    "## Data Exploration\n",
    "Before we get into building a model, we're going to start by just exploring the dataset. The goal of this is to just explore what kinds of relationships exist in the dataset. \n",
    "\n",
    "First, let's start by reading in the dataset\n"
   ]
  },
  {
   "cell_type": "code",
   "execution_count": null,
   "metadata": {
    "collapsed": false
   },
   "outputs": [],
   "source": [
    "crimeData = pd.read_csv('train.csv')\n",
    "crimeData"
   ]
  },
  {
   "cell_type": "markdown",
   "metadata": {},
   "source": [
    "Now that we've read in the data, we can see that we have a timestamp column. This, however is a string, so let's actually decompose this into year, month, day, and hour values. "
   ]
  },
  {
   "cell_type": "code",
   "execution_count": null,
   "metadata": {
    "collapsed": true
   },
   "outputs": [],
   "source": [
    "crimeData['DateTime'] = crimeData['Dates'].apply(\n",
    "    lambda x: datetime.strptime(x, '%Y-%m-%d %H:%M:%S'))\n",
    "\n",
    "crimeData['Year'] = crimeData['DateTime'].apply(lambda x: x.year)\n",
    "crimeData['Month'] = crimeData['DateTime'].apply(lambda x: x.month)\n",
    "crimeData['Day'] = crimeData['DateTime'].apply(lambda x: x.day)\n",
    "crimeData['Hour'] = crimeData['DateTime'].apply(lambda x: x.hour)"
   ]
  },
  {
   "cell_type": "markdown",
   "metadata": {},
   "source": [
    "In the dataset, we have two different kinds of data: location data and time data that we can use to predict the type of crime.\n",
    "\n",
    "First, we'll start by creating plots of the crimes for each location. "
   ]
  },
  {
   "cell_type": "markdown",
   "metadata": {},
   "source": [
    "### The Relationship between Location and Crime Category\n",
    "In the graphs below, we'll show some of the work we did to explore how location and the category of crime are related. \n",
    "\n",
    "To do this, we're going to use ipython notebook widgets, to allow a user to choose a category and then display all the crimes of that category that occurred in our training data. \n",
    "\n",
    "First, we will create a function that given a crime, plots the crimes of that category. "
   ]
  },
  {
   "cell_type": "code",
   "execution_count": null,
   "metadata": {
    "collapsed": false
   },
   "outputs": [],
   "source": [
    "def crime_map_display(crime):\n",
    "    #Load in the map data and set the appropriate lat long variables\n",
    "    mapdata = np.loadtxt(\"sf_map_copyright_openstreetmap_contributors.txt\")\n",
    "    asp = mapdata.shape[0] * 1.0 / mapdata.shape[1]\n",
    "    clipsize = [[-122.5247, -122.3366],[ 37.699, 37.8299]]\n",
    "    lon_lat_box=[-122.52469, -122.33663, 37.69862, 37.82986]\n",
    "    \n",
    "    #get only the crimes that of the category we are showing. \n",
    "    crimeDataS = crimeData[crimeData.Category == crime].copy()\n",
    "    \n",
    "    #Filter out any lat long outliers\n",
    "    crimeDataS['Latitude'] = crimeDataS[crimeDataS.X<-121].X\n",
    "    crimeDataS['Longitude'] = crimeDataS[crimeDataS.Y<40].Y\n",
    "    \n",
    "    plt.figure()\n",
    "    plt.grid(False)\n",
    "    #ax = sns.kdeplot(crimeDataS.Xok, crimeDataS.Yok, clip=clipsize, aspect=1/asp)\n",
    "\n",
    "    cmap = plt.get_cmap('gray')\n",
    "\n",
    "    g = sns.regplot(x=\"Latitude\", y=\"Longitude\", data=crimeDataS, fit_reg=False, scatter_kws={'alpha':0.3})\n",
    "    g.set_title(crime)\n",
    "    g.imshow(mapdata, cmap=plt.get_cmap('gray'), \n",
    "                  extent=lon_lat_box, \n",
    "                  aspect=asp)"
   ]
  },
  {
   "cell_type": "markdown",
   "metadata": {},
   "source": [
    "Now, we will want to actually call this function when we update a widget. "
   ]
  },
  {
   "cell_type": "code",
   "execution_count": null,
   "metadata": {
    "collapsed": false
   },
   "outputs": [],
   "source": [
    "categories = list(zip(crimeData.Category.unique(), crimeData.Category.unique()))\n",
    "crime = widgets.Select(options=categories, description='Select one of the categories:')\n",
    "widgets.interact(crime_map_display, crime = crime)"
   ]
  },
  {
   "cell_type": "markdown",
   "metadata": {},
   "source": [
    "In these graphs (which load a little slowly), crime categories with a lot of data, larceny/theft for example, the plot appears to be almost entirely covered in blue. There is one exception, the rectangle that is not covered is a fairly nice park. \n",
    "\n",
    "For the less common crimes, however, we can see crimes, for the most part, tend to be concentrated in the downtown area. \n",
    "\n",
    "Notably, it appears that the \"other\" category, which are mostly traffic violations are, unsurprisingly, concentrated on major roads. \n",
    "\n",
    "Additionally, prostitution appears to have two major centers. "
   ]
  },
  {
   "cell_type": "markdown",
   "metadata": {},
   "source": [
    "To give us a little more insight into what is happening, and to break up the data a little more, we decided to split this plot up by hour, too, and explore the data per category, per hour. Here we follow the same structure as above (creating a function that plots the data based on our filtered variables, and then calling that function on change of ipython notebook widgets). "
   ]
  },
  {
   "cell_type": "code",
   "execution_count": null,
   "metadata": {
    "collapsed": false,
    "scrolled": false
   },
   "outputs": [],
   "source": [
    "def image_display(crime, time):\n",
    "    \n",
    "    #Load in the Map Data\n",
    "    mapdata = np.loadtxt(\"sf_map_copyright_openstreetmap_contributors.txt\")\n",
    "    asp = mapdata.shape[0] * 1.0 / mapdata.shape[1]\n",
    "    clipsize = [[-122.5247, -122.3366],[ 37.699, 37.8299]]\n",
    "    lon_lat_box=[-122.52469, -122.33663, 37.69862, 37.82986]\n",
    "    \n",
    "    #Filter out lat/long outliers\n",
    "    crimeData['Longitude'] = crimeData[crimeData.X<-121].X\n",
    "    crimeData['Latitude'] = crimeData[crimeData.Y<40].Y\n",
    "\n",
    "    #print crime,time\n",
    "    crimeDataS = crimeData[crimeData.Category == crime][crimeData.Hour==time]\n",
    "    plt.figure()\n",
    "    plt.grid(False)\n",
    "    #ax = sns.kdeplot(crimeDataS.Xok, crimeDataS.Yok, clip=clipsize, aspect=1/asp)\n",
    "\n",
    "    cmap = plt.get_cmap('gray')\n",
    "\n",
    "    g = sns.regplot(x=\"Longitude\", y=\"Latitude\", data=crimeDataS, fit_reg=False, scatter_kws={'alpha':0.3})\n",
    "    g.set_title(crime)\n",
    "    g.imshow(mapdata, cmap=plt.get_cmap('gray'), \n",
    "                  extent=lon_lat_box, \n",
    "                  aspect=asp)"
   ]
  },
  {
   "cell_type": "code",
   "execution_count": null,
   "metadata": {
    "collapsed": false
   },
   "outputs": [],
   "source": [
    "vals = list(zip(crimeData.Category.unique(), crimeData.Category.unique()))\n",
    "crime = widgets.Select(options=vals, description='Select one of the values:')\n",
    "time = widgets.IntSlider(min=0, max=23, value=2003)\n",
    "widgets.interact(image_display, crime = crime, time=time)"
   ]
  },
  {
   "cell_type": "markdown",
   "metadata": {},
   "source": [
    "This makes these plots a little more managable. \n",
    "\n",
    "Some noteable takeaways here are that:\n",
    "* For most categories of crime, there is a lull around 3 am\n",
    "* Most crime tends to be concentrated downtown. We predict that this is because many more people work/live in this area than anywhere else, not because this is actually a more dangerous place to live"
   ]
  },
  {
   "cell_type": "markdown",
   "metadata": {},
   "source": [
    "Although it is helpful to see the map for different categories, for different hours, this view of the data does not provide the most intuitive way to visualize time-based crime patterns. \n",
    "\n",
    "### Crime Distribution of Day of Week and Hour\n",
    "To dig into this, let's look first at the distribution of crime patterns by day of week and hour of the day. Using the same pattern described above, we'll implement a function that creates a plot and declare the widgets to control it.\n",
    "\n",
    "First, let's group the crimes by day of week. "
   ]
  },
  {
   "cell_type": "code",
   "execution_count": null,
   "metadata": {
    "collapsed": true
   },
   "outputs": [],
   "source": [
    "groupedByDayOfWeek = crimeData.groupby(['DayOfWeek', 'Category']).count().reset_index()"
   ]
  },
  {
   "cell_type": "markdown",
   "metadata": {},
   "source": [
    "Now we can declare our function and create the widget"
   ]
  },
  {
   "cell_type": "code",
   "execution_count": null,
   "metadata": {
    "collapsed": false
   },
   "outputs": [],
   "source": [
    "def image_display_day_of_week(i):\n",
    "    # Get the string for the day of week\n",
    "    dayOfWeek = ['Sunday','Monday','Tuesday','Wednesday','Thursday','Friday','Saturday']\n",
    "    day = dayOfWeek[i]\n",
    "    \n",
    "    #Get the number of crimes that occurred on this day of week\n",
    "    #(For normalization purposes)\n",
    "    totalCrimes = sum(groupedByDayOfWeek[groupedByDayOfWeek.DayOfWeek == day]['Dates'].tolist())\n",
    "    \n",
    "    #Get a list of the different crime types\n",
    "    crimeTypes = sorted(crimeData.Category.unique().tolist())\n",
    "    #Calculate the percentage of crimes that occurred that were of a given category\n",
    "    crimeCountsPercent = []\n",
    "    for crime in crimeTypes:\n",
    "        countList = groupedByDayOfWeek[(groupedByDayOfWeek.DayOfWeek == day) & (groupedByDayOfWeek.Category == crime)]['Dates'].tolist()\n",
    "        #Here, we're doing some error handling \n",
    "        #If no crimes of a certain type occurred on a given day, \n",
    "        #then append zero\n",
    "        if (len(countList) > 0):\n",
    "            count = countList[0]\n",
    "        else:\n",
    "            count = 0\n",
    "\n",
    "        crimeCountsPercent.append(1.0*count/totalCrimes)\n",
    "\n",
    "    #Create the figure\n",
    "    plt.figure(figsize=(10,8))\n",
    "    plt.bar([x + 0.1 for x in range(len(crimeCountsPercent))], crimeCountsPercent, width = 0.8)\n",
    "    plt.xticks([x + 0.5 for x in range(len(crimeCountsPercent))], crimeTypes, rotation='vertical')\n",
    "    plt.axis([-0.5, 39.5, 0 ,0.3])\n",
    "    plt.title('Crime Breakdown where day of week is ' + str(day))\n",
    "    plt.xlabel('Type of Crime')\n",
    "    plt.ylabel('Percentage of Crimes')\n",
    "\n",
    "#Outside of the function create the widgets\n",
    "step_slider = widgets.IntSlider(min=0, max=6, value=0)\n",
    "widgets.interact(image_display_day_of_week, i=step_slider)"
   ]
  },
  {
   "cell_type": "markdown",
   "metadata": {},
   "source": [
    "This is a slightly easier way of seeing that for all days of the week, larceny/theft and other offenses are the most common crimes. \n",
    "\n",
    "In general, it appears that there is an increase of crimes like larceny/theft, assault, and drug/narcotic-related offenses over the weekend, and less during the week.\n",
    "\n",
    "Additionally, to explore whether certain crimes happen more often at certain times of day, let's also make a similar plot for hour of the day. First, we group by hour:"
   ]
  },
  {
   "cell_type": "code",
   "execution_count": null,
   "metadata": {
    "collapsed": true
   },
   "outputs": [],
   "source": [
    "groupedByHour = crimeData.groupby(['Hour', 'Category']).count().reset_index()"
   ]
  },
  {
   "cell_type": "code",
   "execution_count": null,
   "metadata": {
    "collapsed": false
   },
   "outputs": [],
   "source": [
    "def image_display_hour(i):\n",
    "    #get the hour of the day\n",
    "    hour = i\n",
    "    #Count the number of crimes that occured in that hour\n",
    "    #(for normalization)\n",
    "    totalCrimes = sum(groupedByHour[groupedByHour.Hour == hour]['Dates'].tolist())\n",
    "    \n",
    "    #Get the number of each type of crime that occured in that hour\n",
    "    crimeTypes = sorted(crimeData.Category.unique().tolist())\n",
    "    crimeCountsPercent = []\n",
    "    for crime in crimeTypes:\n",
    "        countList = groupedByHour[(groupedByHour.Hour == hour) & (groupedByHour.Category == crime)]['Dates'].tolist()\n",
    "        #Handle the zero-occurrence case\n",
    "        if (len(countList) > 0):\n",
    "            count = countList[0]\n",
    "        else:\n",
    "            count = 0\n",
    "\n",
    "        crimeCountsPercent.append(1.0*count/totalCrimes)\n",
    "\n",
    "    #create the plot\n",
    "    plt.figure(figsize=(10,8))\n",
    "    plt.bar([x + 0.1 for x in range(len(crimeCountsPercent))], crimeCountsPercent, width = 0.8)\n",
    "    plt.xticks([x + 0.5 for x in range(len(crimeCountsPercent))], crimeTypes, rotation='vertical')\n",
    "    plt.axis([-0.5, 39.5, 0 ,0.3])\n",
    "    plt.title('Crime Breakdown where hour = ' + str(hour))\n",
    "    plt.xlabel('Type of Crime')\n",
    "    plt.ylabel('Percentage of Crimes')\n",
    "\n",
    "\n",
    "#Create the widget\n",
    "step_slider = widgets.IntSlider(min=0, max=23, value=0)\n",
    "widgets.interact(image_display_hour, i=step_slider)"
   ]
  },
  {
   "cell_type": "markdown",
   "metadata": {},
   "source": [
    "Here, we can see that the distribution of crimes does change over the course of the day.\n",
    "\n",
    "There is a huge shift in the distribution to be mostly larceny/theft crimes around 6pm. We hypothesize that this is because most larcenty/theft is report when people get home or to their cars after work. \n",
    "\n",
    "Additionally, at around 2 am, it appears that the distribution shifts so that assault is the most common crime."
   ]
  },
  {
   "cell_type": "markdown",
   "metadata": {},
   "source": [
    "### Visualizing Patterns of Occurrence for Crimes\n",
    "Although these visualizations help us get a general  sense about what the distribution of crimes look like at various times, it would also be helpful to visualize the pattern of one crime over time. \n",
    "\n",
    "To do this, let's again use ipython widgets. Because this is a little computationally intensive, though, let's create the dataframe outside of the function where we update the plot. \n"
   ]
  },
  {
   "cell_type": "code",
   "execution_count": null,
   "metadata": {
    "collapsed": true
   },
   "outputs": [],
   "source": [
    "groupedByTime = crimeData.groupby(['DayOfWeek', 'Hour', 'Category']).count().reset_index()"
   ]
  },
  {
   "cell_type": "markdown",
   "metadata": {},
   "source": [
    "Now, we can write a function to plot the time heatmap for a given category."
   ]
  },
  {
   "cell_type": "code",
   "execution_count": null,
   "metadata": {
    "collapsed": false
   },
   "outputs": [],
   "source": [
    "def show_time_heatmap(crime):\n",
    "    daysOfWeek = ['Sunday', 'Monday', 'Tuesday', 'Wednesday', 'Thursday', 'Friday', 'Saturday']\n",
    "    daysOfWeekDisp = ['Sun', 'Mon', 'Tue', 'Wed', 'Thu', 'Fri', 'Sat']\n",
    "    hours = range(24)\n",
    "    \n",
    "    numCrimes = np.zeros((len(hours), len(daysOfWeek)))\n",
    "    for i,hour in enumerate(hours):\n",
    "        for j,dayOfWeek in enumerate(daysOfWeek):\n",
    "            try:\n",
    "                crimeCount = groupedByTime[(groupedByTime.DayOfWeek == dayOfWeek) & \n",
    "                                           (groupedByTime.Hour == hour) & \n",
    "                                           (groupedByTime.Category == crime)]['Dates'].tolist()[0]\n",
    "            except:\n",
    "                crimeCount = 0\n",
    "\n",
    "\n",
    "            numCrimes[23-hour][j] = int(crimeCount)\n",
    "\n",
    "    g = sns.heatmap(numCrimes, annot=True, fmt='.0f')\n",
    "    g.set_title(crime)\n",
    "    g.set(xticklabels = daysOfWeekDisp)\n",
    "    g.set(yticklabels = hours)\n",
    "    \n",
    "    \n",
    "crimeCategories = groupedByTime.Category.unique().tolist()\n",
    "vals = list(zip(crimeData.Category.unique(), crimeData.Category.unique()))\n",
    "crime = widgets.Select(options=vals, description='Select one of the values:')\n",
    "widgets.interact(show_time_heatmap, crime = crime)"
   ]
  },
  {
   "cell_type": "markdown",
   "metadata": {},
   "source": [
    "In exploring these plots, it appears that there tends to be a similar pattern of higher levels of crime in the evening and lower levels of crime in the morning. Many crimes also occur more often on the weekends. \n",
    "\n",
    "Notable exceptions to this pattern appear to be drug/narcotic-related offenses (which are most common Wednesdays around lunch time) and missing person cases which appear to be reported most often when in the mornings when people don't show up for work. "
   ]
  },
  {
   "cell_type": "markdown",
   "metadata": {},
   "source": [
    "## Making a Model\n",
    "Now that we've explored the data, we're going to start building a model. To make our lives easier, we're going to follow a pretty simple workflow. We will \n",
    "1. Read in the Data\n",
    "2. Clean the training data\n",
    "3. Create a Model using the cleaned data\n",
    "4. Score the model using the crime categories in the training data\n",
    "5. If the model performs well (better than previous attempts) we will: \n",
    "  1. Repeat steps 1-3 with the test data. \n",
    "  2. Generate a submission file to upload to Kaggle. "
   ]
  },
  {
   "cell_type": "code",
   "execution_count": null,
   "metadata": {
    "collapsed": true,
    "scrolled": true
   },
   "outputs": [],
   "source": []
  }
 ],
 "metadata": {
  "kernelspec": {
   "display_name": "Python 2",
   "language": "python",
   "name": "python2"
  },
  "language_info": {
   "codemirror_mode": {
    "name": "ipython",
    "version": 2
   },
   "file_extension": ".py",
   "mimetype": "text/x-python",
   "name": "python",
   "nbconvert_exporter": "python",
   "pygments_lexer": "ipython2",
   "version": "2.7.11"
  }
 },
 "nbformat": 4,
 "nbformat_minor": 0
}
